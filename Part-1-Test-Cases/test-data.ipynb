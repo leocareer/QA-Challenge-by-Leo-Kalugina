{
 "cells": [
  {
   "cell_type": "code",
   "execution_count": 45,
   "metadata": {},
   "outputs": [
    {
     "name": "stdout",
     "output_type": "stream",
     "text": [
      "Total Sum: 31.44\n"
     ]
    }
   ],
   "source": [
    "price = [3.11, 5, 11.23]\n",
    "x = [3.11, 5, 11.23]\n",
    "y = 70\n",
    "m = 1\n",
    "k = 2\n",
    "cart = ['CF1', 'CF1', 'CF1', 'CF1']\n",
    "\n",
    "product_codes = ['GR1', 'SR1', 'CF1']  # Map product codes to their indices\n",
    "product_to_index = {code: idx for idx, code in enumerate(product_codes)}\n",
    "\n",
    "if len(cart) >= k and y != 100:  # Determine which prices to use based on cart size\n",
    "    final_prices = [p * y / 100 for p in price]  # Apply percentage discount to base prices\n",
    "elif len(cart) >= m:\n",
    "    final_prices = x  # Use the discounted x prices\n",
    "else:\n",
    "    final_prices = price  # Use base prices\n",
    "\n",
    "total = 0\n",
    "for item in cart:  # Calculate the total sum of the cart\n",
    "    index = product_to_index[item]\n",
    "    total += final_prices[index]\n",
    "\n",
    "print(f'Total Sum: {total:.2f}')"
   ]
  }
 ],
 "metadata": {
  "kernelspec": {
   "display_name": "Python 3.13.1 64-bit",
   "language": "python",
   "name": "python3"
  },
  "language_info": {
   "codemirror_mode": {
    "name": "ipython",
    "version": 3
   },
   "file_extension": ".py",
   "mimetype": "text/x-python",
   "name": "python",
   "nbconvert_exporter": "python",
   "pygments_lexer": "ipython3",
   "version": "3.13.1"
  },
  "orig_nbformat": 4,
  "vscode": {
   "interpreter": {
    "hash": "aee8b7b246df8f9039afb4144a1f6fd8d2ca17a180786b69acc140d282b71a49"
   }
  }
 },
 "nbformat": 4,
 "nbformat_minor": 2
}
